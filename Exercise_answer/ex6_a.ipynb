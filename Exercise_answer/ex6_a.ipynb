{
 "cells": [
  {
   "cell_type": "markdown",
   "metadata": {},
   "source": [
    "## 演習問題1 解答"
   ]
  },
  {
   "cell_type": "code",
   "execution_count": 1,
   "metadata": {},
   "outputs": [
    {
     "name": "stdout",
     "output_type": "stream",
     "text": [
      "身長を入力してください：153\n",
      "体重を入力してください：45\n",
      "あなたのBMIは19.223です。\n",
      "肥満度：ふつう\n"
     ]
    }
   ],
   "source": [
    "def bmi(height,weight):\n",
    "    # BMIを求める。\n",
    "    height = height / 100\n",
    "    bmi = weight / (height * height)\n",
    "    # 肥満度を求める。\n",
    "    if bmi < 18:\n",
    "        judge = 'やせがた'\n",
    "    elif bmi >= 18 and bmi < 25:\n",
    "        judge = 'ふつう'\n",
    "    else:\n",
    "        judge = 'メタボ'\n",
    "    return bmi,judge\n",
    "\n",
    "value1 = input('身長を入力してください：')\n",
    "value2 = input('体重を入力してください：')\n",
    "# 数値に変換する。\n",
    "height = int(value1)\n",
    "weight = int(value2)\n",
    "\n",
    "# bmi関数の呼び出し\n",
    "bmi,judge = bmi(height,weight)\n",
    "\n",
    "# BMIをフォーマット。\n",
    "num1 = '{:2.3f}'.format(bmi)\n",
    "print('あなたのBMIは' + num1 + 'です。')\n",
    "# 肥満度の表示\n",
    "print('肥満度：' + judge)"
   ]
  }
 ],
 "metadata": {
  "kernelspec": {
   "display_name": "Python 3",
   "language": "python",
   "name": "python3"
  },
  "language_info": {
   "codemirror_mode": {
    "name": "ipython",
    "version": 3
   },
   "file_extension": ".py",
   "mimetype": "text/x-python",
   "name": "python",
   "nbconvert_exporter": "python",
   "pygments_lexer": "ipython3",
   "version": "3.8.5"
  }
 },
 "nbformat": 4,
 "nbformat_minor": 4
}
