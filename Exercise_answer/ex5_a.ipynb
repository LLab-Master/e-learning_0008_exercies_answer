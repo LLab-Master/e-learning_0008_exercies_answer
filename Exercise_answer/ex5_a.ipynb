{
 "cells": [
  {
   "cell_type": "markdown",
   "metadata": {},
   "source": [
    "## 演習問題1 解答"
   ]
  },
  {
   "cell_type": "code",
   "execution_count": 1,
   "metadata": {},
   "outputs": [
    {
     "name": "stdout",
     "output_type": "stream",
     "text": [
      "睦月 大\n",
      "如月 小\n",
      "弥生 大\n",
      "卯月 小\n",
      "皐月 大\n",
      "水無月 小\n",
      "文月 大\n",
      "葉月 大\n",
      "長月 小\n",
      "神無月 大\n",
      "霜月 小\n",
      "師走 大\n"
     ]
    }
   ],
   "source": [
    "list1 = ['睦月','如月','弥生','卯月','皐月','水無月','文月','葉月','長月','神無月','霜月','師走']\n",
    "for str1 in list1:\n",
    "    if str1 == '睦月' or str1 == '弥生' or str1 == '皐月' or str1 == '文月' or str1 == '葉月' or str1 == '神無月' or str1 == '師走':\n",
    "        print(str1,'大')\n",
    "    else:\n",
    "        print(str1,'小')"
   ]
  },
  {
   "cell_type": "markdown",
   "metadata": {},
   "source": [
    "## 演習問題2 解答"
   ]
  },
  {
   "cell_type": "code",
   "execution_count": 2,
   "metadata": {},
   "outputs": [
    {
     "name": "stdout",
     "output_type": "stream",
     "text": [
      "辞書１ {'桃': 'peach', 'みかん': 'orange', '苺': 'strawberry', 'りんご': 'apple'}\n",
      "辞書2 {'メロン': 'melon', 'ぶどう': 'grape', '苺': 'strawberry', 'バナナ': 'banana', 'みかん': 'orange'}\n",
      "辞書3 {'みかん': 'orange', '苺': 'strawberry'}\n"
     ]
    }
   ],
   "source": [
    "dic1 = {'桃':'peach','みかん':'orange','苺':'strawberry','りんご':'apple'}\n",
    "dic2 = {'メロン':'melon','ぶどう':'grape','苺':'strawberry','バナナ':'banana','みかん':'orange'}\n",
    "dic3 = {}\n",
    "for key in dic1.keys():\n",
    "    if key in dic2.keys():\n",
    "        dic3[key] = dic2[key]\n",
    "print('辞書１',dic1)\n",
    "print('辞書2',dic2)\n",
    "print('辞書3',dic3)"
   ]
  },
  {
   "cell_type": "markdown",
   "metadata": {},
   "source": [
    "## 演習問題3 解答"
   ]
  },
  {
   "cell_type": "code",
   "execution_count": 5,
   "metadata": {},
   "outputs": [
    {
     "name": "stdout",
     "output_type": "stream",
     "text": [
      "自動販売機\n",
      "1.コーラ 120円\n",
      "2.ウーロン茶 140円\n",
      "3.缶コーヒー 110円\n",
      "\n",
      "いらっしゃいませ\n"
     ]
    },
    {
     "name": "stdin",
     "output_type": "stream",
     "text": [
      "商品番号を選択してください： 4\n"
     ]
    },
    {
     "name": "stdout",
     "output_type": "stream",
     "text": [
      "正しく選択してください\n"
     ]
    },
    {
     "name": "stdin",
     "output_type": "stream",
     "text": [
      "商品番号を選択してください： 2\n"
     ]
    },
    {
     "name": "stdout",
     "output_type": "stream",
     "text": [
      "選択商品は、ウーロン茶ですね。\n"
     ]
    },
    {
     "name": "stdin",
     "output_type": "stream",
     "text": [
      "お金を入れてください： 0\n"
     ]
    },
    {
     "name": "stdout",
     "output_type": "stream",
     "text": [
      "投入金額は、0ですね。\n",
      "お金が足りません。\n",
      "-140\n",
      "お買い上げありがとうございました。\n"
     ]
    }
   ],
   "source": [
    "print ('''自動販売機\n",
    "1.コーラ 120円\n",
    "2.ウーロン茶 140円\n",
    "3.缶コーヒー 110円\n",
    "''')\n",
    "\n",
    "# 辞書を作成\n",
    "product = {1:'コーラ', 2:'ウーロン茶', 3:'缶コーヒー'}\n",
    "product2 = {'コーラ':120, 'ウーロン茶':140, '缶コーヒー':110}\n",
    "\n",
    "print('いらっしゃいませ')\n",
    "while True:\n",
    "    value1 = input('商品番号を選択してください：')\n",
    "\n",
    "    # 商品番号を数値に変換\n",
    "    pnum = int(value1)\n",
    "    # 正しい商品番号が入力されたかチェック\n",
    "    if pnum < 1 or pnum > 3:\n",
    "        print('正しく選択してください')\n",
    "    else:\n",
    "        break\n",
    "\n",
    "select_item =  product[pnum]\n",
    "print('選択商品は、' + select_item + 'ですね。')\n",
    "\n",
    "money = 0\n",
    "value2 = input('お金を入れてください：')\n",
    "money = int(value2)\n",
    "print('投入金額は、' + str(money) + 'ですね。')\n",
    "\n",
    "#おつり計算\n",
    "otsuri = 0\n",
    "if money - product2[select_item] < 0:\n",
    "    print('お金が足りません。')\n",
    "otsuri = money - product2[select_item]\n",
    "print(otsuri)\n",
    "\n",
    "mlist = [5000,1000,500,100,50,10]\n",
    "\n",
    "for b in mlist:\n",
    "    if otsuri >= b:\n",
    "        m = otsuri // b\n",
    "        otsuri = otsuri - b * m\n",
    "        if b > 500:\n",
    "            print(str(b) + '円札' + str(m) + '枚')\n",
    "        else:\n",
    "            print(str(b) + '円玉' + str(m) + '枚')\n",
    "print('お買い上げありがとうございました。')"
   ]
  },
  {
   "cell_type": "markdown",
   "metadata": {},
   "source": [
    "## 演習問題4 解答"
   ]
  },
  {
   "cell_type": "code",
   "execution_count": 7,
   "metadata": {},
   "outputs": [
    {
     "name": "stdout",
     "output_type": "stream",
     "text": [
      "-----Welcome Python Typeing Game!!!--------\n",
      "1. ゲームを始める\n",
      "9. 終了\n"
     ]
    },
    {
     "name": "stdin",
     "output_type": "stream",
     "text": [
      "メニューを選択してください： 1\n"
     ]
    },
    {
     "name": "stdout",
     "output_type": "stream",
     "text": [
      "1. 初級(10問)\n",
      "2. 中級(15問)\n",
      "3. 上級(20問)\n"
     ]
    },
    {
     "name": "stdin",
     "output_type": "stream",
     "text": [
      "レベルを選んで下さい： 1\n"
     ]
    },
    {
     "name": "stdout",
     "output_type": "stream",
     "text": [
      "レベル1ですね\n"
     ]
    },
    {
     "name": "stdin",
     "output_type": "stream",
     "text": [
      "Enterでスタートします。 \n"
     ]
    },
    {
     "name": "stdout",
     "output_type": "stream",
     "text": [
      "else\n"
     ]
    },
    {
     "name": "stdin",
     "output_type": "stream",
     "text": [
      " else\n"
     ]
    },
    {
     "name": "stdout",
     "output_type": "stream",
     "text": [
      "=====>OK\n",
      "except\n"
     ]
    },
    {
     "name": "stdin",
     "output_type": "stream",
     "text": [
      " except\n"
     ]
    },
    {
     "name": "stdout",
     "output_type": "stream",
     "text": [
      "=====>OK\n",
      "elif\n"
     ]
    },
    {
     "name": "stdin",
     "output_type": "stream",
     "text": [
      " elif\n"
     ]
    },
    {
     "name": "stdout",
     "output_type": "stream",
     "text": [
      "=====>OK\n",
      "with\n"
     ]
    },
    {
     "name": "stdin",
     "output_type": "stream",
     "text": [
      " with\n"
     ]
    },
    {
     "name": "stdout",
     "output_type": "stream",
     "text": [
      "=====>OK\n",
      "raise\n"
     ]
    },
    {
     "name": "stdin",
     "output_type": "stream",
     "text": [
      " raise\n"
     ]
    },
    {
     "name": "stdout",
     "output_type": "stream",
     "text": [
      "=====>OK\n",
      "for\n"
     ]
    },
    {
     "name": "stdin",
     "output_type": "stream",
     "text": [
      " for\n"
     ]
    },
    {
     "name": "stdout",
     "output_type": "stream",
     "text": [
      "=====>OK\n",
      "finally\n"
     ]
    },
    {
     "name": "stdin",
     "output_type": "stream",
     "text": [
      " finally\n"
     ]
    },
    {
     "name": "stdout",
     "output_type": "stream",
     "text": [
      "=====>OK\n",
      "and\n"
     ]
    },
    {
     "name": "stdin",
     "output_type": "stream",
     "text": [
      " and\n"
     ]
    },
    {
     "name": "stdout",
     "output_type": "stream",
     "text": [
      "=====>OK\n",
      "del\n"
     ]
    },
    {
     "name": "stdin",
     "output_type": "stream",
     "text": [
      " del\n"
     ]
    },
    {
     "name": "stdout",
     "output_type": "stream",
     "text": [
      "=====>OK\n",
      "continue\n"
     ]
    },
    {
     "name": "stdin",
     "output_type": "stream",
     "text": [
      " continue\n"
     ]
    },
    {
     "name": "stdout",
     "output_type": "stream",
     "text": [
      "=====>OK\n",
      "あなたのスコアは10点でした。\n",
      "ゲーム時間23.713秒\n"
     ]
    }
   ],
   "source": [
    "import time\n",
    "import random\n",
    "import sys\n",
    "\n",
    "WORD = ['False','class','finally','is','return',\n",
    "'None','continue','for','lambda','try','True',\n",
    "'def','from','nonlocal','while','and','del',\n",
    "'global','not','with','as','elif','if',\n",
    "'or','yield','assert','else','import','pass',\n",
    "'break','except','in','raise']\n",
    "\n",
    "game_count = [10,15,20]\n",
    "\n",
    "print('-----Welcome Python Typeing Game!!!--------')\n",
    "print('''1. ゲームを始める\n",
    "9. 終了''')\n",
    "\n",
    "value1 = input('メニューを選択してください：')\n",
    "select = int(value1)\n",
    "if select == 9:\n",
    "    print('ゲームを終了します')\n",
    "    sys.exit()\n",
    "\n",
    "print('''1. 初級(10問)\n",
    "2. 中級(15問)\n",
    "3. 上級(20問)''')\n",
    "\n",
    "value2 = input('レベルを選んで下さい：')\n",
    "level = int(value2)\n",
    "while level > 0:\n",
    "    if level < 1 or level > 3:\n",
    "        print('正しく選択してください')\n",
    "        level = -1\n",
    "    else:\n",
    "        break\n",
    "        \n",
    "print('レベル' + str(level) +'ですね')\n",
    "input('Enterでスタートします。')\n",
    "#start_time = datetime.datetime.now()\n",
    "start_time = time.time()\n",
    "score = 0\n",
    "gcnt = 0\n",
    "while gcnt < game_count[level-1]:\n",
    "    word = random.choice(WORD)\n",
    "    print(word)\n",
    "    answser = input()\n",
    "    answser = answser.strip()\n",
    "    if word == answser:\n",
    "        print('=====>OK')\n",
    "        score = score + 1\n",
    "    else:\n",
    "        print('======>NG')\n",
    "    gcnt = gcnt + 1\n",
    "\n",
    "#end_time = datetime.datetime.now()\n",
    "end_time = time.time()\n",
    "game_time = end_time - start_time\n",
    "\n",
    "print('あなたのスコアは' + str(score) + '点でした。')\n",
    "print('ゲーム時間' + '{:2.3f}'.format(game_time) + '秒')"
   ]
  },
  {
   "cell_type": "markdown",
   "metadata": {},
   "source": [
    "## 演習問題5 解答"
   ]
  },
  {
   "cell_type": "code",
   "execution_count": 1,
   "metadata": {},
   "outputs": [
    {
     "name": "stdout",
     "output_type": "stream",
     "text": [
      "ズンズン\n",
      "ズンズン\n",
      "ズン\n",
      "ずんどこ\n",
      "ズン\n",
      "ズンズン\n",
      "ずんどこ\n",
      "きよし！！\n"
     ]
    }
   ],
   "source": [
    "import random\n",
    "\n",
    "a = ['ズン','ズンズン','ずんどこ']\n",
    "b = []\n",
    "flg = True\n",
    "while flg == True:\n",
    "    t = random.randint(0,2)\n",
    "    b.append(t)\n",
    "    #print(t)\n",
    "    if len(b) > 3:\n",
    "        del b[0]\n",
    "    print(a[t])\n",
    "    #print(b)\n",
    "    if b[0] == 0:\n",
    "        if len(b) > 2 and b[1] == 1 and b[2] == 2:\n",
    "            print('きよし！！')\n",
    "            flg = False\n",
    "            break"
   ]
  },
  {
   "cell_type": "code",
   "execution_count": 6,
   "metadata": {},
   "outputs": [
    {
     "name": "stdout",
     "output_type": "stream",
     "text": [
      "ずんどこ\n",
      "ズンズン\n",
      "ズンズン\n",
      "ズンズン\n",
      "ずんどこ\n",
      "ズンズン\n",
      "ズン\n",
      "ズンズン\n",
      "ズン\n",
      "ずんどこ\n",
      "ズン\n",
      "ずんどこ\n",
      "ズン\n",
      "ずんどこ\n",
      "ズン\n",
      "ズン\n",
      "ずんどこ\n",
      "ズンズン\n",
      "ズン\n",
      "ズンズン\n",
      "ズンズン\n",
      "ズン\n",
      "ずんどこ\n",
      "ズン\n",
      "ずんどこ\n",
      "ズン\n",
      "ズンズン\n",
      "ズンズン\n",
      "ずんどこ\n",
      "ズン\n",
      "ズン\n",
      "ずんどこ\n",
      "ズン\n",
      "ズンズン\n",
      "ズンズン\n",
      "ずんどこ\n",
      "ずんどこ\n",
      "ずんどこ\n",
      "ずんどこ\n",
      "ズン\n",
      "ズン\n",
      "ずんどこ\n",
      "ずんどこ\n",
      "ズン\n",
      "ずんどこ\n",
      "ズン\n",
      "ズンズン\n",
      "ずんどこ\n",
      "きよし！！\n"
     ]
    }
   ],
   "source": [
    "import random\n",
    "\n",
    "a = ['ズン','ズンズン','ずんどこ']\n",
    "b = []\n",
    "\n",
    "while True:\n",
    "    t = random.randint(0,2)\n",
    "    b.append(t)\n",
    "    if len(b) > 3:\n",
    "        del b[0]\n",
    "    print(a[t])\n",
    "    if b[0] == 0  and b[1] == 1 and b[2] == 2:\n",
    "        print('きよし！！')\n",
    "        break"
   ]
  },
  {
   "cell_type": "code",
   "execution_count": null,
   "metadata": {
    "collapsed": true,
    "jupyter": {
     "outputs_hidden": true
    }
   },
   "outputs": [],
   "source": []
  }
 ],
 "metadata": {
  "kernelspec": {
   "display_name": "Python 3 (ipykernel)",
   "language": "python",
   "name": "python3"
  },
  "language_info": {
   "codemirror_mode": {
    "name": "ipython",
    "version": 3
   },
   "file_extension": ".py",
   "mimetype": "text/x-python",
   "name": "python",
   "nbconvert_exporter": "python",
   "pygments_lexer": "ipython3",
   "version": "3.8.16"
  },
  "latex_envs": {
   "LaTeX_envs_menu_present": true,
   "bibliofile": "biblio.bib",
   "cite_by": "apalike",
   "current_citInitial": 1,
   "eqLabelWithNumbers": true,
   "eqNumInitial": 1,
   "labels_anchors": false,
   "latex_user_defs": false,
   "report_style_numbering": false,
   "user_envs_cfg": false
  },
  "toc": {
   "colors": {
    "hover_highlight": "#DAA520",
    "running_highlight": "#FF0000",
    "selected_highlight": "#FFD700"
   },
   "moveMenuLeft": true,
   "nav_menu": {
    "height": "67.1px",
    "width": "251.4px"
   },
   "navigate_menu": true,
   "number_sections": true,
   "sideBar": true,
   "threshold": 4,
   "toc_cell": false,
   "toc_section_display": "block",
   "toc_window_display": false
  }
 },
 "nbformat": 4,
 "nbformat_minor": 4
}
