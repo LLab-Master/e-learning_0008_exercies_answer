{
 "cells": [
  {
   "cell_type": "markdown",
   "metadata": {},
   "source": [
    "## 演習問題1 解答"
   ]
  },
  {
   "cell_type": "code",
   "execution_count": 2,
   "metadata": {},
   "outputs": [
    {
     "name": "stdin",
     "output_type": "stream",
     "text": [
      "身長を入力してください： 175\n",
      "体重を入力してください： 65\n"
     ]
    },
    {
     "name": "stdout",
     "output_type": "stream",
     "text": [
      "あなたのBMIは21.224です。\n",
      "肥満度：ふつう\n"
     ]
    }
   ],
   "source": [
    "value1 = input('身長を入力してください：')\n",
    "value2 = input('体重を入力してください：')\n",
    "# 数値に変換する。\n",
    "height = int(value1)\n",
    "weight = int(value2)\n",
    "\n",
    "# BMIを求める。\n",
    "height = height / 100\n",
    "bmi = weight / (height * height)\n",
    "\n",
    "# BMIをフォーマット。\n",
    "num1 = '{0:2.3f}'.format(bmi)\n",
    "print('あなたのBMIは' + num1 + 'です。')\n",
    "\n",
    "#フォーマット文字列  f' {変数名｝'\n",
    "#print(f'あなたのBMIは{bmi:2.3f}です。')\n",
    "\n",
    "\n",
    "# 肥満度を求める。\n",
    "if bmi < 18:\n",
    "    judge = 'やせがた'\n",
    "elif bmi >= 18 and bmi < 25:\n",
    "    judge = 'ふつう'\n",
    "else:\n",
    "    judge = 'メタボ'\n",
    "\n",
    "print('肥満度：' + judge)"
   ]
  },
  {
   "cell_type": "markdown",
   "metadata": {},
   "source": [
    "## 演習問題2 解答"
   ]
  },
  {
   "cell_type": "code",
   "execution_count": 5,
   "metadata": {},
   "outputs": [
    {
     "name": "stdout",
     "output_type": "stream",
     "text": [
      "1\n",
      "2\n",
      "Fizz\n",
      "4\n",
      "Buzz\n",
      "Fizz\n",
      "7\n",
      "8\n",
      "Fizz\n",
      "Buzz\n",
      "11\n",
      "Fizz\n",
      "13\n",
      "14\n",
      "Fizz Buzz\n",
      "16\n",
      "17\n",
      "Fizz\n",
      "19\n",
      "Buzz\n",
      "Fizz\n",
      "22\n",
      "23\n",
      "Fizz\n",
      "Buzz\n",
      "26\n",
      "Fizz\n",
      "28\n",
      "29\n",
      "Fizz Buzz\n",
      "31\n",
      "32\n",
      "Fizz\n",
      "34\n",
      "Buzz\n",
      "Fizz\n",
      "37\n",
      "38\n",
      "Fizz\n",
      "Buzz\n",
      "41\n",
      "Fizz\n",
      "43\n",
      "44\n",
      "Fizz Buzz\n",
      "46\n",
      "47\n",
      "Fizz\n",
      "49\n",
      "Buzz\n",
      "Fizz\n",
      "52\n",
      "53\n",
      "Fizz\n",
      "Buzz\n",
      "56\n",
      "Fizz\n",
      "58\n",
      "59\n",
      "Fizz Buzz\n"
     ]
    }
   ],
   "source": [
    "# rangeを使用する解答例\n",
    "for num in range(1, 61): \n",
    "    if num % 3 == 0 and num % 5 == 0:\n",
    "        print(\"Fizz Buzz\")\n",
    "    elif num % 3 == 0:\n",
    "        print(\"Fizz\")\n",
    "    elif num % 5 == 0:\n",
    "        print(\"Buzz\")\n",
    "    else:\n",
    "        print(num)"
   ]
  },
  {
   "cell_type": "code",
   "execution_count": 6,
   "metadata": {},
   "outputs": [
    {
     "name": "stdout",
     "output_type": "stream",
     "text": [
      "1\n",
      "2\n",
      "Fizz\n",
      "4\n",
      "Buzz\n",
      "Fizz\n",
      "7\n",
      "8\n",
      "Fizz\n",
      "Buzz\n",
      "11\n",
      "Fizz\n",
      "13\n",
      "14\n",
      "Fizz Buzz\n",
      "16\n",
      "17\n",
      "Fizz\n",
      "19\n",
      "Buzz\n",
      "Fizz\n",
      "22\n",
      "23\n",
      "Fizz\n",
      "Buzz\n",
      "26\n",
      "Fizz\n",
      "28\n",
      "29\n",
      "Fizz Buzz\n",
      "31\n",
      "32\n",
      "Fizz\n",
      "34\n",
      "Buzz\n",
      "Fizz\n",
      "37\n",
      "38\n",
      "Fizz\n",
      "Buzz\n",
      "41\n",
      "Fizz\n",
      "43\n",
      "44\n",
      "Fizz Buzz\n",
      "46\n",
      "47\n",
      "Fizz\n",
      "49\n",
      "Buzz\n",
      "Fizz\n",
      "52\n",
      "53\n",
      "Fizz\n",
      "Buzz\n",
      "56\n",
      "Fizz\n",
      "58\n",
      "59\n",
      "Fizz Buzz\n"
     ]
    }
   ],
   "source": [
    "# whileを使用する解答例\n",
    "num2 = 1\n",
    "while num2 < 61: \n",
    "    if num2 % 3 == 0 and num2 % 5 == 0:\n",
    "        print(\"Fizz Buzz\")\n",
    "    elif num2 % 3 == 0:\n",
    "        print(\"Fizz\")\n",
    "    elif num2 % 5 == 0:\n",
    "        print(\"Buzz\")\n",
    "    else:\n",
    "        print(num2)\n",
    "    num2 += 1"
   ]
  },
  {
   "cell_type": "markdown",
   "metadata": {},
   "source": [
    "## 演習問題3  解答"
   ]
  },
  {
   "cell_type": "code",
   "execution_count": 7,
   "metadata": {},
   "outputs": [
    {
     "name": "stdin",
     "output_type": "stream",
     "text": [
      "テストの受験者数を入力してください： 3\n",
      "1人目の点数を入力してください： 1\n",
      "2人目の点数を入力してください： 2\n",
      "3人目の点数を入力してください： 2\n"
     ]
    },
    {
     "name": "stdout",
     "output_type": "stream",
     "text": [
      "-----集計結果-----\n",
      "受験者数: 3\n",
      "平均点: 1.6666666666666667\n",
      "最高点: 2\n",
      "最低点: 1\n",
      "10 20 30 40 50\n"
     ]
    }
   ],
   "source": [
    "# print('テストの点数を集計します。')\n",
    "examinee = int(input('テストの受験者数を入力してください：'))\n",
    "sum = 0\n",
    "max = 0\n",
    "min = 100\n",
    "for i in range(examinee):\n",
    "    value = input('{0}人目の点数を入力してください：'.format(i+1))\n",
    "    score = int(value)\n",
    "    sum = sum + score\n",
    "    if score > max:\n",
    "        max = score\n",
    "    if score < min:\n",
    "        min = score\n",
    "\n",
    "mean = sum / examinee\n",
    "\n",
    "print('-----集計結果-----')\n",
    "print('受験者数:', examinee)\n",
    "print('平均点:', mean)\n",
    "print('最高点:', max)\n",
    "print('最低点:', min)\n",
    "print( 10,20,30,40,50)"
   ]
  },
  {
   "cell_type": "markdown",
   "metadata": {},
   "source": [
    "## 演習問題4解答"
   ]
  },
  {
   "cell_type": "code",
   "execution_count": 27,
   "metadata": {},
   "outputs": [
    {
     "name": "stdin",
     "output_type": "stream",
     "text": [
      "1.足し算  2.引き算  3.掛け算  4.割り算  0.終了: (1〜4, 0)?  1\n",
      "A?  1\n",
      "B?  2\n"
     ]
    },
    {
     "name": "stdout",
     "output_type": "stream",
     "text": [
      "1 + 2 = 3\n",
      "\n"
     ]
    },
    {
     "name": "stdin",
     "output_type": "stream",
     "text": [
      "1.足し算  2.引き算  3.掛け算  4.割り算  0.終了: (1〜4, 0)?  4\n",
      "A?  4\n",
      "B?  0\n"
     ]
    },
    {
     "name": "stdout",
     "output_type": "stream",
     "text": [
      "0で割ることはできません\n",
      "\n"
     ]
    },
    {
     "name": "stdin",
     "output_type": "stream",
     "text": [
      "1.足し算  2.引き算  3.掛け算  4.割り算  0.終了: (1〜4, 0)?  5\n",
      "A?  1\n",
      "B?  2\n"
     ]
    },
    {
     "name": "stdout",
     "output_type": "stream",
     "text": [
      "1〜6までを選んでください\n",
      "\n"
     ]
    },
    {
     "name": "stdin",
     "output_type": "stream",
     "text": [
      "1.足し算  2.引き算  3.掛け算  4.割り算  0.終了: (1〜4, 0)?  0\n"
     ]
    },
    {
     "name": "stdout",
     "output_type": "stream",
     "text": [
      "終了します\n"
     ]
    }
   ],
   "source": [
    "while True:\n",
    "    op_in = input(\"1.足し算  2.引き算  3.掛け算  4.割り算  0.終了: (1〜4, 0)? \")\n",
    "    if op_in == \"0\":\n",
    "        print(\"終了します\")\n",
    "        break\n",
    "    a_in = input(\"A? \")\n",
    "    b_in = input(\"B? \")\n",
    "\n",
    "    a = int(a_in)\n",
    "    b = int(b_in)\n",
    "\n",
    "    match op_in:\n",
    "        case \"1\":\n",
    "            print(a, \"+\", b, \"=\", a + b)\n",
    "        case \"2\":\n",
    "            print(a, \"-\", b, \"=\", a - b)\n",
    "        case \"3\":\n",
    "            print(a, \"*\", b, \"=\", a * b)\n",
    "        case \"4\":\n",
    "            if b == 0:\n",
    "                print(\"0で割ることはできません\")\n",
    "            else:\n",
    "                print(a, \"/\", b, \"=\", a / b)\n",
    "        case _:\n",
    "            print(\"1〜6までを選んでください\")\n",
    "    print()\n"
   ]
  },
  {
   "cell_type": "code",
   "execution_count": 28,
   "metadata": {},
   "outputs": [
    {
     "name": "stdin",
     "output_type": "stream",
     "text": [
      "1.足し算  2.引き算  3.掛け算  4.割り算  0.終了: (1〜4, 0)?  1\n",
      "A?  1\n",
      "B?  2\n"
     ]
    },
    {
     "name": "stdout",
     "output_type": "stream",
     "text": [
      "1 + 2 = 3\n",
      "\n"
     ]
    },
    {
     "name": "stdin",
     "output_type": "stream",
     "text": [
      "1.足し算  2.引き算  3.掛け算  4.割り算  0.終了: (1〜4, 0)?  4\n",
      "A?  3\n",
      "B?  0\n"
     ]
    },
    {
     "name": "stdout",
     "output_type": "stream",
     "text": [
      "0で割ることはできません\n",
      "\n"
     ]
    },
    {
     "name": "stdin",
     "output_type": "stream",
     "text": [
      "1.足し算  2.引き算  3.掛け算  4.割り算  0.終了: (1〜4, 0)?  5\n"
     ]
    },
    {
     "name": "stdout",
     "output_type": "stream",
     "text": [
      "1〜6までを選んでください\n",
      "\n"
     ]
    },
    {
     "name": "stdin",
     "output_type": "stream",
     "text": [
      "1.足し算  2.引き算  3.掛け算  4.割り算  0.終了: (1〜4, 0)?  0\n"
     ]
    },
    {
     "name": "stdout",
     "output_type": "stream",
     "text": [
      "終了します\n"
     ]
    }
   ],
   "source": [
    "# 別解\n",
    "## case文には if 条件を付けられる（「ガード」という）。\n",
    "while True:\n",
    "    op = int(input(\"1.足し算  2.引き算  3.掛け算  4.割り算  0.終了: (1〜4, 0)? \"))\n",
    "    match op:\n",
    "    # op が 0か、1〜4か、それ以外かで場合分け\n",
    "        case 0:\n",
    "            print(\"終了します\")\n",
    "            break\n",
    "        case n if 0 <= n <= 4:\n",
    "        # op の値が n に入って、if 0 <= n <= 4 が評価される。\n",
    "            a = int(input(\"A? \"))\n",
    "            b = int(input(\"B? \"))\n",
    "            match n:\n",
    "            # n で場合分け\n",
    "                case 1:\n",
    "                    print(a, \"+\", b, \"=\", a + b)\n",
    "                case 2:\n",
    "                    print(a, \"-\", b, \"=\", a - b)\n",
    "                case 3:\n",
    "                    print(a, \"*\", b, \"=\", a * b)\n",
    "                case 4:\n",
    "                    if b == 0:\n",
    "                        print(\"0で割ることはできません\")\n",
    "                    else:\n",
    "                        print(a, \"/\", b, \"=\", a / b)\n",
    "        case _:\n",
    "            print(\"1〜6までを選んでください\")\n",
    "    \n",
    "    print()\n"
   ]
  },
  {
   "cell_type": "code",
   "execution_count": null,
   "metadata": {},
   "outputs": [],
   "source": []
  }
 ],
 "metadata": {
  "kernelspec": {
   "display_name": "Python 3 (ipykernel)",
   "language": "python",
   "name": "python3"
  },
  "language_info": {
   "codemirror_mode": {
    "name": "ipython",
    "version": 3
   },
   "file_extension": ".py",
   "mimetype": "text/x-python",
   "name": "python",
   "nbconvert_exporter": "python",
   "pygments_lexer": "ipython3",
   "version": "3.10.0"
  },
  "toc": {
   "colors": {
    "hover_highlight": "#DAA520",
    "running_highlight": "#FF0000",
    "selected_highlight": "#FFD700"
   },
   "moveMenuLeft": true,
   "nav_menu": {
    "height": "85px",
    "width": "251px"
   },
   "navigate_menu": true,
   "number_sections": true,
   "sideBar": true,
   "threshold": 4,
   "toc_cell": false,
   "toc_section_display": "block",
   "toc_window_display": false
  }
 },
 "nbformat": 4,
 "nbformat_minor": 4
}
