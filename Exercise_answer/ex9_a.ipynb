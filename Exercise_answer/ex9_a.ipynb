{
 "cells": [
  {
   "cell_type": "markdown",
   "metadata": {},
   "source": [
    "## 演習問題1解答"
   ]
  },
  {
   "cell_type": "markdown",
   "metadata": {},
   "source": [
    "クラス「book」を作成し、コンストラクタでtitleをセットします。  \n",
    "「書籍名は●●です」と表示するメソッド「printTitle」をbookに作成します。  \n",
    "\n",
    "関数「printBook」内で引数に「吾輩は猫である」を指定したbookインスタンス、引数に「銀河鉄道の夜」を指定したbookインスタンス、引数に「雪国」を指定したbookインスタンスをそれぞれ作成し、リスト「bookList」に格納します。  \n",
    "bookListに格納したbookのprintTitleメソッドを呼び出し、結果を表示するプログラムを作成してください。  "
   ]
  },
  {
   "cell_type": "code",
   "execution_count": 1,
   "metadata": {},
   "outputs": [
    {
     "name": "stdout",
     "output_type": "stream",
     "text": [
      "書籍名は 吾輩は猫である\n",
      "書籍名は 銀河鉄道の夜\n",
      "書籍名は 雪国\n"
     ]
    }
   ],
   "source": [
    "class book:\n",
    "    def __init__(self, title):\n",
    "        self.title = title\n",
    "    def printTitle(self):\n",
    "        print ('書籍名は', self.title)\n",
    "        \n",
    "def printBook():\n",
    "    bookList = []\n",
    "    book1 = book('吾輩は猫である')\n",
    "    book2 = book('銀河鉄道の夜')\n",
    "    book3 = book('雪国')\n",
    "    \n",
    "    bookList.append(book1)\n",
    "    bookList.append(book2)\n",
    "    bookList.append(book3)\n",
    "    \n",
    "    for bk in bookList:\n",
    "        bk.printTitle()\n",
    "\n",
    "printBook()"
   ]
  },
  {
   "cell_type": "markdown",
   "metadata": {},
   "source": [
    "## 演習問題2"
   ]
  },
  {
   "cell_type": "markdown",
   "metadata": {},
   "source": [
    "クラス「Father」を作成し、メソッド「fatherGreet」の引数にselfを指定し、「父親です。」と表示する処理を作成します。  \n",
    "Fatherクラスを継承したクラス「Child」を作成し、メソッド「childGreet」の引数にselfを指定し、「子供です。」と表示する処理を作成します。  \n",
    "Childのインスタンスを作成し、fatherGreetメソッド、childGreetメソッドを呼び出した結果を表示するプログラムを作成しなさい。  "
   ]
  },
  {
   "cell_type": "code",
   "execution_count": 3,
   "metadata": {},
   "outputs": [
    {
     "name": "stdout",
     "output_type": "stream",
     "text": [
      "父親です。\n",
      "子供です。\n"
     ]
    }
   ],
   "source": [
    "class Father():\n",
    "    def fatherGreet(self):\n",
    "        print('父親です。')\n",
    "\n",
    "class Child(Father):\n",
    "    def childGreet(self):\n",
    "        print('子供です。')\n",
    "\n",
    "child = Child()\n",
    "child.fatherGreet()\n",
    "child.childGreet()"
   ]
  }
 ],
 "metadata": {
  "kernelspec": {
   "display_name": "Python 3",
   "language": "python",
   "name": "python3"
  },
  "language_info": {
   "codemirror_mode": {
    "name": "ipython",
    "version": 3
   },
   "file_extension": ".py",
   "mimetype": "text/x-python",
   "name": "python",
   "nbconvert_exporter": "python",
   "pygments_lexer": "ipython3",
   "version": "3.8.5"
  }
 },
 "nbformat": 4,
 "nbformat_minor": 4
}
